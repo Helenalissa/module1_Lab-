{
 "cells": [
  {
   "cell_type": "markdown",
   "metadata": {
    "button": false,
    "id": "DNcScLCV-62e",
    "new_sheet": false,
    "run_control": {
     "read_only": false
    }
   },
   "source": [
    "#Lab 5 Từ Xây dựng Mô hình đến Đánh giá\n",
    "\n",
    "Thời lượng: 120 phút\n",
    "\n",
    "## Mục tiêu\n",
    "\n",
    "Sau khi hoàn thành lab này, bạn sẽ có thể:\n",
    "\n",
    "-   Lập mô hình\n",
    "-   Đánh giá mô hình\n"
   ]
  },
  {
   "cell_type": "markdown",
   "metadata": {
    "button": false,
    "id": "5mjv-bsh-62g",
    "new_sheet": false,
    "run_control": {
     "read_only": false
    }
   },
   "source": [
    "## Mục lục\n",
    "\n",
    "<div class=\"alert alert-block alert-info\" style=\"margin-top: 20px\">\n",
    "\n",
    "1.  [Tóm tắt lại](#0)<br>\n",
    "2.  [Mô hình hóa dữ liệu](#2)<br>\n",
    "3.  [Đánh giá mô hình](#4)<br>\n",
    "    </div>\n",
    "    <hr>\n"
   ]
  },
  {
   "cell_type": "markdown",
   "metadata": {
    "button": false,
    "id": "YaYwewlv-62i",
    "new_sheet": false,
    "run_control": {
     "read_only": false
    }
   },
   "source": [
    "# Tóm tắt lại <a id=\"0\"></a>\n",
    "\n",
    "Trong lab **Từ Hiểu biết đến Chuẩn bị**, chúng ta đã khám phá dữ liệu và chuẩn bị cho việc lập mô hình.\n"
   ]
  },
  {
   "cell_type": "markdown",
   "metadata": {
    "button": false,
    "id": "qgIYF-aY-62j",
    "new_sheet": false,
    "run_control": {
     "read_only": false
    }
   },
   "source": [
    "Dữ liệu được tổng hợp bởi nhà nghiên cứu Yong-Yeol Ahn, người đã thu thập hàng chục nghìn công thức nấu ăn (món ăn và nguyên liệu) từ 3 trang web khác nhau, đó là:"
   ]
  },
  {
   "cell_type": "markdown",
   "metadata": {
    "button": false,
    "id": "33YHd4hR-62k",
    "new_sheet": false,
    "run_control": {
     "read_only": false
    }
   },
   "source": [
    "<img src=\"https://s3-api.us-geo.objectstorage.softlayer.net/cf-courses-data/CognitiveClass/DS0103EN/labs/images/lab4_fig1_allrecipes.png\" width=500>\n",
    "\n",
    "[www.allrecipes.com](http://www.allrecipes.com?cm_mmc=Email_Newsletter-_-Developer_Ed%2BTech-_-WW_WW-_-SkillsNetwork-Courses-IBMDeveloperSkillsNetwork-DS0103EN-SkillsNetwork-20083987&cm_mmca1=000026UJ&cm_mmca2=10006555&cm_mmca3=M12345678&cvosrc=email.Newsletter.M12345678&cvo_campaign=000026UJ)\n",
    "\n",
    "<img src=\"https://s3-api.us-geo.objectstorage.softlayer.net/cf-courses-data/CognitiveClass/DS0103EN/labs/images/lab4_fig2_epicurious.png\" width=500>\n",
    "\n",
    "[www.epicurious.com](http://www.epicurious.com?cm_mmc=Email_Newsletter-_-Developer_Ed%2BTech-_-WW_WW-_-SkillsNetwork-Courses-IBMDeveloperSkillsNetwork-DS0103EN-SkillsNetwork-20083987&cm_mmca1=000026UJ&cm_mmca2=10006555&cm_mmca3=M12345678&cvosrc=email.Newsletter.M12345678&cvo_campaign=000026UJ)\n",
    "\n",
    "<img src=\"https://s3-api.us-geo.objectstorage.softlayer.net/cf-courses-data/CognitiveClass/DS0103EN/labs/images/lab4_fig3_menupan.png\" width=500>\n",
    "\n",
    "[www.menupan.com](http://www.menupan.com?cm_mmc=Email_Newsletter-_-Developer_Ed%2BTech-_-WW_WW-_-SkillsNetwork-Courses-IBMDeveloperSkillsNetwork-DS0103EN-SkillsNetwork-20083987&cm_mmca1=000026UJ&cm_mmca2=10006555&cm_mmca3=M12345678&cvosrc=email.Newsletter.M12345678&cvo_campaign=000026UJ)\n"
   ]
  },
  {
   "cell_type": "markdown",
   "metadata": {
    "button": false,
    "id": "p94yuoOt-62k",
    "new_sheet": false,
    "run_control": {
     "read_only": false
    }
   },
   "source": [
    "Để biết thêm thông tin về Yong-Yeol Ahn và nghiên cứu của anh ấy, bạn có thể đọc bài báo của anh ấy trên[Flavor Network and the Principles of Food Pairing](http://yongyeol.com/papers/ahn-flavornet-2011.pdf?cm_mmc=Email_Newsletter-_-Developer_Ed%2BTech-_-WW_WW-_-SkillsNetwork-Courses-IBMDeveloperSkillsNetwork-DS0103EN-SkillsNetwork-20083987&cm_mmca1=000026UJ&cm_mmca2=10006555&cm_mmca3=M12345678&cvosrc=email.Newsletter.M12345678&cvo_campaign=000026UJ&cm_mmc=Email_Newsletter-_-Developer_Ed%2BTech-_-WW_WW-_-SkillsNetwork-Courses-IBMDeveloperSkillsNetwork-DS0103EN-SkillsNetwork-20083987&cm_mmca1=000026UJ&cm_mmca2=10006555&cm_mmca3=M12345678&cvosrc=email.Newsletter.M12345678&cvo_campaign=000026UJ).\n"
   ]
  },
  {
   "cell_type": "markdown",
   "metadata": {
    "button": false,
    "id": "4GXvja5I-62l",
    "new_sheet": false,
    "run_control": {
     "read_only": false
    }
   },
   "source": [
    "<strong> Lưu ý quan trọng:</strong> Xin lưu ý rằng bạn không cần biết cách lập trình trong Python. Đoạn code sau đây nhằm minh họa các giai đoạn hiểu dữ liệu và chuẩn bị dữ liệu, vì vậy hoàn toàn không sao nếu bạn không hiểu từng dòng code riêng lẻ. Chúng ta có một khóa học đầy đủ về lập trình bằng Python, <a href=\"http://cocl.us/PY0101EN_DS0103EN_LAB4_PYTHON_edX\"><strong> Python dành cho Khoa học dữ liệu </strong> </a>, cũng được cung cấp trên Coursera. Vì vậy, hãy hoàn thành khóa học Python nếu bạn muốn học cách lập trình bằng Python."
   ]
  },
  {
   "cell_type": "markdown",
   "metadata": {
    "button": false,
    "id": "34LuD57B-62m",
    "new_sheet": false,
    "run_control": {
     "read_only": false
    }
   },
   "source": [
    "### Sử dụng notebook này:\n",
    "\n",
    "Để chạy bất kỳ cell code nào sau đây, bạn có thể nhập **Shift + Enter** để tính toán code trong một cell.\n"
   ]
  },
  {
   "cell_type": "markdown",
   "metadata": {
    "button": false,
    "id": "FuRbEBNB-62n",
    "new_sheet": false,
    "run_control": {
     "read_only": false
    }
   },
   "source": [
    "Tải xuống thư viện và các tệp đi kèm mà chúng ta sẽ cần để chạy lab này."
   ]
  },
  {
   "cell_type": "code",
   "execution_count": 11,
   "metadata": {
    "button": false,
    "id": "39YOrw7--62n",
    "new_sheet": false,
    "run_control": {
     "read_only": false
    }
   },
   "outputs": [],
   "source": [
    "import pandas as pd # import library to read data into dataframe\n",
    "pd.set_option(\"display.max_columns\", None)\n",
    "import numpy as np # import numpy library\n",
    "import re # import library for regular expression\n",
    "import random # library for random number generation\n"
   ]
  },
  {
   "cell_type": "markdown",
   "metadata": {
    "button": false,
    "id": "dYTprAEq-62s",
    "new_sheet": false,
    "run_control": {
     "read_only": false
    }
   },
   "source": [
    "Chúng tôi đã đặt dữ liệu trên máy chủ IBM để thuận tiện cho bạn, vì vậy hãy tải dữ liệu xuống từ máy chủ và đọc nó vào khung dữ liệu có tên **recipes**.\n"
   ]
  },
  {
   "cell_type": "code",
   "execution_count": null,
   "metadata": {
    "button": false,
    "colab": {
     "base_uri": "https://localhost:8080/"
    },
    "collapsed": false,
    "executionInfo": {
     "elapsed": 5607,
     "status": "ok",
     "timestamp": 1663756403939,
     "user": {
      "displayName": "Sơn Nguyễn Hải",
      "userId": "15831383678878548038"
     },
     "user_tz": -420
    },
    "id": "FF-Wj1IY-62t",
    "jupyter": {
     "outputs_hidden": false
    },
    "new_sheet": false,
    "outputId": "a91fc3ed-f0b4-4bec-e494-403f4f57fdf3",
    "run_control": {
     "read_only": false
    }
   },
   "outputs": [],
   "source": [
    "# Điền code vào đây\n",
    "recipes = pd.read_csv(\"https://s3-api.us-geo.objectstorage.softlayer.net/cf-courses-data/CognitiveClass/DS0103EN/labs/data/recipes.csv\")\n",
    "\n",
    "print(\"Data read into dataframe!\") # takes about 30 seconds"
   ]
  },
  {
   "cell_type": "markdown",
   "metadata": {
    "id": "tqtZFuib5I3E"
   },
   "source": [
    "Nhấp đúp vào __đây__ để xem lời giải.\n",
    "<!-- \n",
    "read_csv\n",
    "-->"
   ]
  },
  {
   "cell_type": "markdown",
   "metadata": {
    "button": false,
    "id": "629GjhMs-62y",
    "new_sheet": false,
    "run_control": {
     "read_only": false
    }
   },
   "source": [
    "Chúng ta sẽ lặp lại các bước tiền xử lý đã triển khai trong lab **Từ Tìm hiểu đến Chuẩn bị** để chuẩn bị dữ liệu cho việc lập mô hình. Để biết thêm chi tiết về việc chuẩn bị dữ liệu, vui lòng tham khảo lab **Từ Tìm hiểu đến Chuẩn bị**.\n"
   ]
  },
  {
   "cell_type": "code",
   "execution_count": null,
   "metadata": {
    "button": false,
    "id": "Ly6CI6VY-62y",
    "new_sheet": false,
    "run_control": {
     "read_only": false
    }
   },
   "outputs": [],
   "source": [
    "# fix name of the column displaying the cuisine\n",
    "column_names = recipes.columns.values\n",
    "column_names[0] = \"cuisine\"\n",
    "recipes.columns = column_names\n",
    "\n",
    "# convert cuisine names to lower case\n",
    "recipes[\"cuisine\"] = recipes[\"cuisine\"].str.lower()\n",
    "\n",
    "# make the cuisine names consistent\n",
    "recipes.loc[recipes[\"cuisine\"] == \"austria\", \"cuisine\"] = \"austrian\"\n",
    "recipes.loc[recipes[\"cuisine\"] == \"belgium\", \"cuisine\"] = \"belgian\"\n",
    "recipes.loc[recipes[\"cuisine\"] == \"china\", \"cuisine\"] = \"chinese\"\n",
    "recipes.loc[recipes[\"cuisine\"] == \"canada\", \"cuisine\"] = \"canadian\"\n",
    "recipes.loc[recipes[\"cuisine\"] == \"netherlands\", \"cuisine\"] = \"dutch\"\n",
    "recipes.loc[recipes[\"cuisine\"] == \"france\", \"cuisine\"] = \"french\"\n",
    "recipes.loc[recipes[\"cuisine\"] == \"germany\", \"cuisine\"] = \"german\"\n",
    "recipes.loc[recipes[\"cuisine\"] == \"india\", \"cuisine\"] = \"indian\"\n",
    "recipes.loc[recipes[\"cuisine\"] == \"indonesia\", \"cuisine\"] = \"indonesian\"\n",
    "recipes.loc[recipes[\"cuisine\"] == \"iran\", \"cuisine\"] = \"iranian\"\n",
    "recipes.loc[recipes[\"cuisine\"] == \"italy\", \"cuisine\"] = \"italian\"\n",
    "recipes.loc[recipes[\"cuisine\"] == \"japan\", \"cuisine\"] = \"japanese\"\n",
    "recipes.loc[recipes[\"cuisine\"] == \"israel\", \"cuisine\"] = \"jewish\"\n",
    "recipes.loc[recipes[\"cuisine\"] == \"korea\", \"cuisine\"] = \"korean\"\n",
    "recipes.loc[recipes[\"cuisine\"] == \"lebanon\", \"cuisine\"] = \"lebanese\"\n",
    "recipes.loc[recipes[\"cuisine\"] == \"malaysia\", \"cuisine\"] = \"malaysian\"\n",
    "recipes.loc[recipes[\"cuisine\"] == \"mexico\", \"cuisine\"] = \"mexican\"\n",
    "recipes.loc[recipes[\"cuisine\"] == \"pakistan\", \"cuisine\"] = \"pakistani\"\n",
    "recipes.loc[recipes[\"cuisine\"] == \"philippines\", \"cuisine\"] = \"philippine\"\n",
    "recipes.loc[recipes[\"cuisine\"] == \"scandinavia\", \"cuisine\"] = \"scandinavian\"\n",
    "recipes.loc[recipes[\"cuisine\"] == \"spain\", \"cuisine\"] = \"spanish_portuguese\"\n",
    "recipes.loc[recipes[\"cuisine\"] == \"portugal\", \"cuisine\"] = \"spanish_portuguese\"\n",
    "recipes.loc[recipes[\"cuisine\"] == \"switzerland\", \"cuisine\"] = \"swiss\"\n",
    "recipes.loc[recipes[\"cuisine\"] == \"thailand\", \"cuisine\"] = \"thai\"\n",
    "recipes.loc[recipes[\"cuisine\"] == \"turkey\", \"cuisine\"] = \"turkish\"\n",
    "recipes.loc[recipes[\"cuisine\"] == \"vietnam\", \"cuisine\"] = \"vietnamese\"\n",
    "recipes.loc[recipes[\"cuisine\"] == \"uk-and-ireland\", \"cuisine\"] = \"uk-and-irish\"\n",
    "recipes.loc[recipes[\"cuisine\"] == \"irish\", \"cuisine\"] = \"uk-and-irish\"\n",
    "\n",
    "\n",
    "# remove data for cuisines with < 50 recipes:\n",
    "recipes_counts = recipes[\"cuisine\"].value_counts()\n",
    "cuisines_indices = recipes_counts > 50\n",
    "\n",
    "cuisines_to_keep = list(np.array(recipes_counts.index.values)[np.array(cuisines_indices)])\n",
    "recipes = recipes.loc[recipes[\"cuisine\"].isin(cuisines_to_keep)]\n",
    "\n",
    "# convert all Yes's to 1's and the No's to 0's\n",
    "recipes = recipes.replace(to_replace=\"Yes\", value=1)\n",
    "recipes = recipes.replace(to_replace=\"No\", value=0)"
   ]
  },
  {
   "cell_type": "markdown",
   "metadata": {
    "button": false,
    "id": "ZJJ5mg-V-623",
    "new_sheet": false,
    "run_control": {
     "read_only": false
    }
   },
   "source": [
    "<hr>\n"
   ]
  },
  {
   "cell_type": "markdown",
   "metadata": {
    "button": false,
    "id": "UMnRvZ0B-623",
    "new_sheet": false,
    "run_control": {
     "read_only": false
    }
   },
   "source": [
    "# Mô hình hóa Dữ liệu <a id=\"2\"></a>\n"
   ]
  },
  {
   "cell_type": "markdown",
   "metadata": {
    "button": false,
    "id": "45IqsaIt-624",
    "new_sheet": false,
    "run_control": {
     "read_only": false
    }
   },
   "source": [
    "<img src=\"https://s3-api.us-geo.objectstorage.softlayer.net/cf-courses-data/CognitiveClass/DS0103EN/labs/images/lab4_fig4_flowchart_data_modeling.png\" width=500>\n"
   ]
  },
  {
   "cell_type": "markdown",
   "metadata": {
    "button": false,
    "id": "YtzKKbJC-625",
    "new_sheet": false,
    "run_control": {
     "read_only": false
    }
   },
   "source": [
    "Tải xuống và cài đặt thêm các thư viện và phần phụ thuộc để xây dựng cây quyết định.\n"
   ]
  },
  {
   "cell_type": "code",
   "execution_count": null,
   "metadata": {
    "button": false,
    "colab": {
     "base_uri": "https://localhost:8080/"
    },
    "executionInfo": {
     "elapsed": 598,
     "status": "ok",
     "timestamp": 1663756442450,
     "user": {
      "displayName": "Sơn Nguyễn Hải",
      "userId": "15831383678878548038"
     },
     "user_tz": -420
    },
    "id": "Be69nN0i-629",
    "new_sheet": false,
    "outputId": "a4ce69ce-1ba3-48d4-e214-7f1505818ea1",
    "run_control": {
     "read_only": false
    }
   },
   "outputs": [],
   "source": [
    "# import decision trees scikit-learn libraries\n",
    "%matplotlib inline\n",
    "from sklearn import tree\n",
    "from sklearn.metrics import accuracy_score, confusion_matrix\n",
    "\n",
    "import matplotlib.pyplot as plt\n",
    "\n",
    "!conda install python-graphviz --yes\n",
    "import graphviz\n",
    "\n",
    "from sklearn.tree import export_graphviz\n",
    "\n",
    "import itertools"
   ]
  },
  {
   "cell_type": "markdown",
   "metadata": {
    "button": false,
    "id": "RBVtb1p--63i",
    "new_sheet": false,
    "run_control": {
     "read_only": false
    }
   },
   "source": [
    "Hãy kiểm tra lại dữ liệu!\n"
   ]
  },
  {
   "cell_type": "code",
   "execution_count": null,
   "metadata": {
    "button": false,
    "colab": {
     "base_uri": "https://localhost:8080/",
     "height": 270
    },
    "collapsed": false,
    "executionInfo": {
     "elapsed": 496,
     "status": "ok",
     "timestamp": 1663756442944,
     "user": {
      "displayName": "Sơn Nguyễn Hải",
      "userId": "15831383678878548038"
     },
     "user_tz": -420
    },
    "id": "JTeGUXKd-63k",
    "jupyter": {
     "outputs_hidden": false
    },
    "new_sheet": false,
    "outputId": "a7d2e8cc-e6ef-4719-ef76-0d3d0ca76d21",
    "run_control": {
     "read_only": false
    }
   },
   "outputs": [],
   "source": [
    "recipes.head()"
   ]
  },
  {
   "cell_type": "markdown",
   "metadata": {
    "button": false,
    "id": "Mdv_Pn_l-63t",
    "new_sheet": false,
    "run_control": {
     "read_only": false
    }
   },
   "source": [
    "## [bamboo_tree] Chỉ có Ẩm thực châu Á và Ấn Độ\n",
    "\n",
    "Ở đây, chúng ta đang tạo một cây quyết định cho các công thức nấu ăn chỉ cho một số món ăn Châu Á (Hàn Quốc, Nhật Bản, Trung Quốc, Thái Lan) và Ấn Độ. Lý do là vì cây quyết định không chạy tốt khi dữ liệu thiên về một nền ẩm thực, trong trường hợp này là các món ăn Mỹ. Có một phương án là loại trừ các món ăn Mỹ khỏi phân tích của chúng ta hoặc chỉ xây dựng cây quyết định cho các tập hợp con dữ liệu khác nhau. Hãy thực hiện giải pháp này.\n"
   ]
  },
  {
   "cell_type": "markdown",
   "metadata": {
    "button": false,
    "id": "GfVFwuCz-63v",
    "new_sheet": false,
    "run_control": {
     "read_only": false
    }
   },
   "source": [
    "Hãy xây dựng cây quyết định bằng cách sử dụng dữ liệu liên quan đến các món ăn Châu Á và Ấn Độ và đặt tên cho cây quyết định của chúng ta là _bamboo_tree_."
   ]
  },
  {
   "cell_type": "code",
   "execution_count": null,
   "metadata": {
    "id": "Fdfxpf8-5fSc"
   },
   "outputs": [],
   "source": [
    "# select subset of cuisines\n",
    "asian_indian_recipes = recipes[recipes.cuisine.isin([\"korean\", \"japanese\", \"chinese\", \"thai\", \"indian\"])]\n",
    "cuisines = asian_indian_recipes[\"cuisine\"]\n",
    "ingredients = asian_indian_recipes.iloc[:,1:]"
   ]
  },
  {
   "cell_type": "code",
   "execution_count": null,
   "metadata": {
    "id": "kVyuoeLu5kDc"
   },
   "outputs": [],
   "source": [
    "# Điền code vào đây\n",
    "bamboo_tree = tree.DecisionTreeClassifier(max_depth=3)"
   ]
  },
  {
   "cell_type": "markdown",
   "metadata": {
    "id": "HSBYv5ao5eEt"
   },
   "source": [
    "Nhấp đúp vào __đây__ để xem lời giải.\n",
    "<!-- \n",
    "DecisionTreeClassifier\n",
    "-->"
   ]
  },
  {
   "cell_type": "code",
   "execution_count": null,
   "metadata": {
    "button": false,
    "colab": {
     "base_uri": "https://localhost:8080/"
    },
    "collapsed": false,
    "executionInfo": {
     "elapsed": 332,
     "status": "ok",
     "timestamp": 1663756546562,
     "user": {
      "displayName": "Sơn Nguyễn Hải",
      "userId": "15831383678878548038"
     },
     "user_tz": -420
    },
    "id": "ivYcswPw-63w",
    "jupyter": {
     "outputs_hidden": false
    },
    "new_sheet": false,
    "outputId": "bf5edc53-f78d-4f49-fdbf-f58e4d515bb0",
    "run_control": {
     "read_only": false
    }
   },
   "outputs": [],
   "source": [
    "bamboo_tree.fit(ingredients, cuisines)\n",
    "\n",
    "print(\"Decision tree model saved to bamboo_tree!\")"
   ]
  },
  {
   "cell_type": "markdown",
   "metadata": {
    "id": "AqE5at_N5tGN"
   },
   "source": [
    "Nhấp đúp vào __đây__ để xem lời giải.\n",
    "<!-- \n",
    "fit(ingredients, cuisines)\n",
    "-->"
   ]
  },
  {
   "cell_type": "markdown",
   "metadata": {
    "button": false,
    "id": "Zel2YJOt-637",
    "new_sheet": false,
    "run_control": {
     "read_only": false
    }
   },
   "source": [
    "Hãy vẽ biểu đồ cây quyết định và xem nó trông như thế nào."
   ]
  },
  {
   "cell_type": "code",
   "execution_count": null,
   "metadata": {
    "button": false,
    "colab": {
     "base_uri": "https://localhost:8080/",
     "height": 619
    },
    "collapsed": false,
    "executionInfo": {
     "elapsed": 673,
     "status": "ok",
     "timestamp": 1663756549061,
     "user": {
      "displayName": "Sơn Nguyễn Hải",
      "userId": "15831383678878548038"
     },
     "user_tz": -420
    },
    "id": "q2FjiT0m-638",
    "jupyter": {
     "outputs_hidden": false
    },
    "new_sheet": false,
    "outputId": "abc39820-12f4-465e-bc26-5bb05cba765a",
    "run_control": {
     "read_only": false
    }
   },
   "outputs": [],
   "source": [
    "export_graphviz(bamboo_tree,\n",
    "                feature_names=list(ingredients.columns.values),\n",
    "                out_file=\"bamboo_tree.dot\",\n",
    "                class_names=np.unique(cuisines),\n",
    "                filled=True,\n",
    "                node_ids=True,\n",
    "                special_characters=True,\n",
    "                impurity=False,\n",
    "                label=\"all\",\n",
    "                leaves_parallel=False)\n",
    "\n",
    "with open(\"bamboo_tree.dot\") as bamboo_tree_image:\n",
    "    bamboo_tree_graph = bamboo_tree_image.read()\n",
    "graphviz.Source(bamboo_tree_graph)"
   ]
  },
  {
   "cell_type": "markdown",
   "metadata": {
    "button": false,
    "id": "e6YkItx5-64S",
    "new_sheet": false,
    "run_control": {
     "read_only": false
    }
   },
   "source": [
    "Cây quyết định cho rằng:\n",
    "\n",
    "- Nếu một công thức có chứa _cumin_ và _fish_ và **không có** _yoghurt_, thì rất có thể đó là công thức **Thái**.\n",
    "- Nếu một công thức có chứa _cumin_ nhưng **không có** _fish_ và **không có** _soy_sauce_, thì rất có thể đó là một công thức **Ấn Độ**.\n"
   ]
  },
  {
   "cell_type": "markdown",
   "metadata": {
    "button": false,
    "id": "fO2wEorg-64T",
    "new_sheet": false,
    "run_control": {
     "read_only": false
    }
   },
   "source": [
    "Bạn có thể phân tích các nhánh còn lại của cây để đưa ra các quy tắc tương tự nhằm xác định ẩm thực của các công thức nấu ăn khác nhau.\n"
   ]
  },
  {
   "cell_type": "markdown",
   "metadata": {
    "button": false,
    "id": "TLTRn1v6-64V",
    "new_sheet": false,
    "run_control": {
     "read_only": false
    }
   },
   "source": [
    "Hãy thoải mái chọn một tập hợp con các món ăn khác và xây dựng một cây quyết định về công thức nấu ăn của chúng. Bạn có thể chọn một số món ăn Châu Âu và xây dựng một cây quyết định để khám phá các thành phần tạo nên sự khác biệt giữa chúng.\n"
   ]
  },
  {
   "cell_type": "markdown",
   "metadata": {
    "button": false,
    "id": "SX4j3cPs-64Y",
    "new_sheet": false,
    "run_control": {
     "read_only": false
    }
   },
   "source": [
    "# Đánh giá mô hình <a id=\"4\"></a>\n"
   ]
  },
  {
   "cell_type": "markdown",
   "metadata": {
    "button": false,
    "id": "fDFSdGxp-64a",
    "new_sheet": false,
    "run_control": {
     "read_only": false
    }
   },
   "source": [
    "<img src=\"https://s3-api.us-geo.objectstorage.softlayer.net/cf-courses-data/CognitiveClass/DS0103EN/labs/images/lab4_fig5_flowchart_evaluation.png\" width=500>\n"
   ]
  },
  {
   "cell_type": "markdown",
   "metadata": {
    "button": false,
    "id": "wXBAwnJn-64c",
    "new_sheet": false,
    "run_control": {
     "read_only": false
    }
   },
   "source": [
    "Để đánh giá mô hình ẩm thực châu Á và Ấn Độ, chúng ta sẽ chia tập dữ liệu của mình thành tập huấn luyện (training set) và tập thử nghiệm (test set). Chúng ta sẽ xây dựng cây quyết định bằng cách sử dụng tập huấn luyện. Sau đó, chúng ta sẽ kiểm tra mô hình trên tập thử nghiệm và so sánh các món ăn mà mô hình dự đoán với các món ăn thực tế."
   ]
  },
  {
   "cell_type": "markdown",
   "metadata": {
    "button": false,
    "id": "l5AUWJYj-64e",
    "new_sheet": false,
    "run_control": {
     "read_only": false
    }
   },
   "source": [
    "Trước tiên, hãy tạo một khung dữ liệu mới chỉ sử dụng dữ liệu liên quan đến các món ăn Châu Á và Ấn Độ, và chúng ta hãy gọi khung dữ liệu mới là **bamboo**.\n"
   ]
  },
  {
   "cell_type": "code",
   "execution_count": null,
   "metadata": {
    "button": false,
    "id": "fkmJZ0nI-64g",
    "new_sheet": false,
    "run_control": {
     "read_only": false
    }
   },
   "outputs": [],
   "source": [
    "bamboo = recipes[recipes.cuisine.isin([\"korean\", \"japanese\", \"chinese\", \"thai\", \"indian\"])]"
   ]
  },
  {
   "cell_type": "markdown",
   "metadata": {
    "button": false,
    "id": "Sr5y_t5H-64o",
    "new_sheet": false,
    "run_control": {
     "read_only": false
    }
   },
   "source": [
    "Hãy xem có bao nhiêu công thức nấu ăn của từng nền ẩm thực.\n"
   ]
  },
  {
   "cell_type": "code",
   "execution_count": null,
   "metadata": {
    "button": false,
    "collapsed": false,
    "id": "JifdfCm2-64w",
    "jupyter": {
     "outputs_hidden": false
    },
    "new_sheet": false,
    "run_control": {
     "read_only": false
    }
   },
   "outputs": [],
   "source": [
    "# Điền code vài đây\n",
    "bamboo[\"cuisine\"]value_counts()"
   ]
  },
  {
   "cell_type": "markdown",
   "metadata": {
    "id": "7M0zwpFi52Oe"
   },
   "source": [
    "Nhấp đúp vào __đây__ để xem lời giải.\n",
    "<!-- \n",
    "value_counts\n",
    "-->"
   ]
  },
  {
   "cell_type": "markdown",
   "metadata": {
    "button": false,
    "id": "8uVNNxl3-647",
    "new_sheet": false,
    "run_control": {
     "read_only": false
    }
   },
   "source": [
    "Hãy xóa 30 công thức nấu ăn từ mỗi nền ẩm thực để sử dụng làm tập thử nghiệm và đặt tên cho tập thử nghiệm này là **bamboo_test**.\n"
   ]
  },
  {
   "cell_type": "code",
   "execution_count": null,
   "metadata": {
    "button": false,
    "id": "i9H6yGLk-648",
    "new_sheet": false,
    "run_control": {
     "read_only": false
    }
   },
   "outputs": [],
   "source": [
    "# set sample size\n",
    "sample_n = 30"
   ]
  },
  {
   "cell_type": "markdown",
   "metadata": {
    "button": false,
    "id": "ymTQexV6-65G",
    "new_sheet": false,
    "run_control": {
     "read_only": false
    }
   },
   "source": [
    "Tạo khung dữ liệu chứa 30 công thức nấu ăn từ mỗi nền ẩm thực, được chọn ngẫu nhiên.\n"
   ]
  },
  {
   "cell_type": "code",
   "execution_count": null,
   "metadata": {
    "button": false,
    "id": "oaiChJPn-65H",
    "new_sheet": false,
    "run_control": {
     "read_only": false
    }
   },
   "outputs": [],
   "source": [
    "# take 30 recipes from each cuisine\n",
    "random.seed(1234) # set random seed\n",
    "\n",
    "# Điền code vào đây\n",
    "bamboo_test = bamboo.groupby(\"cuisine\", group_keys=False).apply(lambda x: x.sample(sample_n))\n",
    "\n",
    "bamboo_test_ingredients = bamboo_test.iloc[:,1:] # ingredients\n",
    "bamboo_test_cuisines = bamboo_test[\"cuisine\"] # corresponding cuisines or labels"
   ]
  },
  {
   "cell_type": "markdown",
   "metadata": {
    "id": "owCqd8GG6o-e"
   },
   "source": [
    "Nhấp đúp vào __đây__ để xem lời giải.\n",
    "<!-- \n",
    "groupby\n",
    "-->"
   ]
  },
  {
   "cell_type": "markdown",
   "metadata": {
    "button": false,
    "id": "eobfgh6X-65O",
    "new_sheet": false,
    "run_control": {
     "read_only": false
    }
   },
   "source": [
    "Kiếm tra thấy mỗi nền ẩm thực có 30 công thức.\n"
   ]
  },
  {
   "cell_type": "code",
   "execution_count": null,
   "metadata": {
    "button": false,
    "collapsed": false,
    "id": "pF_gw5LN-65Q",
    "jupyter": {
     "outputs_hidden": false
    },
    "new_sheet": false,
    "run_control": {
     "read_only": false
    }
   },
   "outputs": [],
   "source": [
    "# check that we have 30 recipes from each cuisine\n",
    "bamboo_test[\"cuisine\"].value_counts()"
   ]
  },
  {
   "cell_type": "markdown",
   "metadata": {
    "button": false,
    "id": "Fmsr9spQ-65i",
    "new_sheet": false,
    "run_control": {
     "read_only": false
    }
   },
   "source": [
    "Tiếp theo, hãy tạo tập huấn luyện bằng cách xóa tập kiểm tra khỏi tập dữ liệu **bamboo** và gọi tập huấn luyện **bamboo_train**."
   ]
  },
  {
   "cell_type": "code",
   "execution_count": null,
   "metadata": {
    "button": false,
    "id": "F129F8g4-65j",
    "new_sheet": false,
    "run_control": {
     "read_only": false
    }
   },
   "outputs": [],
   "source": [
    "bamboo_test_index = bamboo.index.isin(bamboo_test.index)\n",
    "bamboo_train = bamboo[~bamboo_test_index]\n",
    "\n",
    "bamboo_train_ingredients = bamboo_train.iloc[:,1:] # ingredients\n",
    "bamboo_train_cuisines = bamboo_train[\"cuisine\"] # corresponding cuisines or labels"
   ]
  },
  {
   "cell_type": "markdown",
   "metadata": {
    "button": false,
    "id": "vXuRLdPJ-66H",
    "new_sheet": false,
    "run_control": {
     "read_only": false
    }
   },
   "source": [
    "Kiểm tra để đảm bảo rằng hiện có _ít hơn_ 30 công thức nấu ăn cho mỗi nền ẩm thực.\n"
   ]
  },
  {
   "cell_type": "code",
   "execution_count": null,
   "metadata": {
    "button": false,
    "collapsed": false,
    "id": "zzwWo2ho-66L",
    "jupyter": {
     "outputs_hidden": false
    },
    "new_sheet": false,
    "run_control": {
     "read_only": false
    }
   },
   "outputs": [],
   "source": [
    "bamboo_train[\"cuisine\"].value_counts()"
   ]
  },
  {
   "cell_type": "markdown",
   "metadata": {
    "button": false,
    "id": "Z5WDXiXY-66R",
    "new_sheet": false,
    "run_control": {
     "read_only": false
    }
   },
   "source": [
    "Hãy xây dựng cây quyết định bằng cách sử dụng tập huấn luyện **bamboo_train**, và đặt tên cho cây được tạo là **bamboo_train_tree** để dự đoán.\n"
   ]
  },
  {
   "cell_type": "code",
   "execution_count": null,
   "metadata": {
    "id": "0aVf6Pd17Dfx"
   },
   "outputs": [],
   "source": [
    "bamboo_train_tree = tree.DecisionTreeClassifier(max_depth=15)"
   ]
  },
  {
   "cell_type": "markdown",
   "metadata": {
    "id": "QikbFa2G7FB6"
   },
   "source": [
    "Nhấp đúp vào __đây__ để xem lời giải.\n",
    "<!-- \n",
    "DecisionTreeClassifier\n",
    "-->"
   ]
  },
  {
   "cell_type": "code",
   "execution_count": null,
   "metadata": {
    "button": false,
    "collapsed": false,
    "id": "n6Rk_bd4-66S",
    "jupyter": {
     "outputs_hidden": false
    },
    "new_sheet": false,
    "run_control": {
     "read_only": false
    }
   },
   "outputs": [],
   "source": [
    "bamboo_train_tree.fit(bamboo_train_ingredients, bamboo_train_cuisines)\n",
    "\n",
    "print(\"Decision tree model saved to bamboo_train_tree!\")"
   ]
  },
  {
   "cell_type": "markdown",
   "metadata": {
    "id": "lnBMUKPd7Myz"
   },
   "source": [
    "Nhấp đúp vào __đây__ để xem lời giải.\n",
    "<!-- \n",
    "fit\n",
    "-->"
   ]
  },
  {
   "cell_type": "markdown",
   "metadata": {
    "button": false,
    "id": "jAuwpMwm-66X",
    "new_sheet": false,
    "run_control": {
     "read_only": false
    }
   },
   "source": [
    "Hãy dựng cây quyết định và khám phá nó.\n"
   ]
  },
  {
   "cell_type": "code",
   "execution_count": null,
   "metadata": {
    "button": false,
    "collapsed": false,
    "id": "poRbHZFQ-66Y",
    "jupyter": {
     "outputs_hidden": false
    },
    "new_sheet": false,
    "run_control": {
     "read_only": false
    }
   },
   "outputs": [],
   "source": [
    "export_graphviz(bamboo_train_tree,\n",
    "                feature_names=list(bamboo_train_ingredients.columns.values),\n",
    "                out_file=\"bamboo_train_tree.dot\",\n",
    "                class_names=np.unique(bamboo_train_cuisines),\n",
    "                filled=True,\n",
    "                node_ids=True,\n",
    "                special_characters=True,\n",
    "                impurity=False,\n",
    "                label=\"all\",\n",
    "                leaves_parallel=False)\n",
    "\n",
    "with open(\"bamboo_train_tree.dot\") as bamboo_train_tree_image:\n",
    "    bamboo_train_tree_graph = bamboo_train_tree_image.read()\n",
    "graphviz.Source(bamboo_train_tree_graph)"
   ]
  },
  {
   "cell_type": "markdown",
   "metadata": {
    "button": false,
    "id": "yVa2qSXJ-66e",
    "new_sheet": false,
    "run_control": {
     "read_only": false
    }
   },
   "source": [
    "Bây giờ chúng ta đã xác định kỹ hơn cây của mình, tạo ra nhiều nút quyết định (decision node) hơn.\n"
   ]
  },
  {
   "cell_type": "markdown",
   "metadata": {
    "button": false,
    "id": "-2qnioOh-66f",
    "new_sheet": false,
    "run_control": {
     "read_only": false
    }
   },
   "source": [
    "#### Bây giờ, hãy kiểm tra mô hình của chúng ta trên dữ liệu thử nghiệm."
   ]
  },
  {
   "cell_type": "code",
   "execution_count": null,
   "metadata": {
    "button": false,
    "id": "ymbvcAKJ-66g",
    "new_sheet": false,
    "run_control": {
     "read_only": false
    }
   },
   "outputs": [],
   "source": [
    "bamboo_pred_cuisines = bamboo_train_tree.predict(bamboo_test_ingredients)"
   ]
  },
  {
   "cell_type": "markdown",
   "metadata": {
    "id": "-uletpcF624_"
   },
   "source": [
    "Nhấp đúp vào __đây__ để xem lời giải.\n",
    "<!-- \n",
    "predict\n",
    "-->"
   ]
  },
  {
   "cell_type": "markdown",
   "metadata": {
    "button": false,
    "id": "isCGLEBj-66k",
    "new_sheet": false,
    "run_control": {
     "read_only": false
    }
   },
   "source": [
    "Để định lượng mức độ mà cây quyết định có thể xác định chính xác từng công thức của nền ẩm thực nào, chúng ta sẽ tạo ra một ma trận nhầm lẫn (confusion matrix) trình bày một bản tóm tắt về số lượng công thức từ mỗi nền ẩm thực được phân loại chính xác. Nó cũng giúp phân biệt những nền ẩm thực nào đang bị nhầm lẫn với các nền ẩm thực khác.\n"
   ]
  },
  {
   "cell_type": "markdown",
   "metadata": {
    "button": false,
    "id": "R-D9kdEc-66m",
    "new_sheet": false,
    "run_control": {
     "read_only": false
    }
   },
   "source": [
    "Vì vậy, hãy tạo ma trận nhầm lẫn để xem cây quyết định có thể phân loại chính xác các công thức trong **bamboo_test** như thế nào.\n"
   ]
  },
  {
   "cell_type": "code",
   "execution_count": null,
   "metadata": {
    "button": false,
    "collapsed": false,
    "id": "DNc4pM3B-66p",
    "jupyter": {
     "outputs_hidden": false
    },
    "new_sheet": false,
    "run_control": {
     "read_only": false
    }
   },
   "outputs": [],
   "source": [
    "test_cuisines = np.unique(bamboo_test_cuisines)\n",
    "bamboo_confusion_matrix = confusion_matrix(bamboo_test_cuisines, bamboo_pred_cuisines, labels = test_cuisines)\n",
    "title = 'Bamboo Confusion Matrix'\n",
    "cmap = plt.cm.Blues\n",
    "\n",
    "plt.figure(figsize=(8, 6))\n",
    "bamboo_confusion_matrix = (\n",
    "    bamboo_confusion_matrix.astype('float') / bamboo_confusion_matrix.sum(axis=1)[:, np.newaxis]\n",
    "    ) * 100\n",
    "\n",
    "plt.imshow(bamboo_confusion_matrix, interpolation='nearest', cmap=cmap)\n",
    "plt.title(title)\n",
    "plt.colorbar()\n",
    "tick_marks = np.arange(len(test_cuisines))\n",
    "plt.xticks(tick_marks, test_cuisines)\n",
    "plt.yticks(tick_marks, test_cuisines)\n",
    "\n",
    "fmt = '.2f'\n",
    "thresh = bamboo_confusion_matrix.max() / 2.\n",
    "for i, j in itertools.product(range(bamboo_confusion_matrix.shape[0]), range(bamboo_confusion_matrix.shape[1])):\n",
    "    plt.text(j, i, format(bamboo_confusion_matrix[i, j], fmt),\n",
    "             horizontalalignment=\"center\",\n",
    "             color=\"white\" if bamboo_confusion_matrix[i, j] > thresh else \"black\")\n",
    "\n",
    "plt.tight_layout()\n",
    "plt.ylabel('True label')\n",
    "plt.xlabel('Predicted label')\n",
    "\n",
    "plt.show()"
   ]
  },
  {
   "cell_type": "markdown",
   "metadata": {
    "button": false,
    "id": "m13e-rsj-66u",
    "new_sheet": false,
    "run_control": {
     "read_only": false
    }
   },
   "source": [
    "Sau khi chạy đoạn code trên, bạn sẽ nhận được một ma trận nhầm lẫn tương tự như sau:\n"
   ]
  },
  {
   "cell_type": "markdown",
   "metadata": {
    "button": false,
    "id": "IJMpO5rN-66w",
    "new_sheet": false,
    "run_control": {
     "read_only": false
    }
   },
   "source": [
    "<img src=\"https://s3-api.us-geo.objectstorage.softlayer.net/cf-courses-data/CognitiveClass/DS0103EN/labs/images/lab4_fig6_confusion_matrix.png\" width=500>\n"
   ]
  },
  {
   "cell_type": "markdown",
   "metadata": {
    "button": false,
    "id": "V001rhpn-66x",
    "new_sheet": false,
    "run_control": {
     "read_only": false
    }
   },
   "source": [
    "Các hàng đại diện cho các nền ẩm thực thực tế từ tập dữ liệu và các cột đại diện cho những nền ẩm thực được dự đoán. Mỗi hàng phải tổng lại thành 100%. Theo ma trận nhầm lẫn này, chúng ta thực hiện các quan sát sau:\n",
    "\n",
    "- Sử dụng hàng đầu tiên trong ma trận nhầm lẫn, 60% công thức **Chinese** trong **bamboo_test** được phân loại chính xác theo cây quyết định trong khi 37% công thức **Chinese** bị phân loại sai thành **Korean**  và 3% bị phân loại sai thành **Indian**.\n",
    "\n",
    "- Sử dụng hàng Ấn Độ, 77% công thức **Indian** trong **bamboo_test** được phân loại chính xác theo cây quyết định và 3% công thức **Indian** bị phân loại sai thành **Chinese**, 13 % bị phân loại sai là **Korean** và 7% bị phân loại sai là ** Thái **"
   ]
  },
  {
   "cell_type": "markdown",
   "metadata": {
    "button": false,
    "id": "CbIy-bQt-66y",
    "new_sheet": false,
    "run_control": {
     "read_only": false
    }
   },
   "source": [
    "**Xin lưu ý** rằng vì cây quyết định được tạo bằng cách lấy mẫu ngẫu nhiên các điểm dữ liệu trong tập huấn luyện, do đó bạn có thể không nhận được kết quả giống nhau mỗi khi tạo cây quyết định ngay cả khi sử dụng cùng một tập huấn luyện. Tuy nhiên, hiệu suất vẫn có thể so sánh được! Vì vậy, đừng lo lắng nếu bạn nhận được những con số hơi khác trong ma trận nhầm lẫn của bạn với những con số được hiển thị ở trên."
   ]
  },
  {
   "cell_type": "markdown",
   "metadata": {
    "button": false,
    "id": "0qQALqZR-660",
    "new_sheet": false,
    "run_control": {
     "read_only": false
    }
   },
   "source": [
    "Sử dụng ma trận nhầm lẫn tham chiếu, có bao nhiêu công thức **Japanese** được phân loại chính xác bằng cây quyết định của chúng ta?\n"
   ]
  },
  {
   "cell_type": "markdown",
   "metadata": {
    "button": false,
    "id": "qui-5DBS-661",
    "new_sheet": false,
    "run_control": {
     "read_only": false
    }
   },
   "source": [
    "Đáp án của bạn:\n",
    "36.67%"
   ]
  },
  {
   "cell_type": "markdown",
   "metadata": {
    "button": false,
    "id": "_e1-oVOe-662",
    "new_sheet": false,
    "run_control": {
     "read_only": false
    }
   },
   "source": [
    "Nhấp đúp vào **đây** để xem lời giải\n",
    "\n",
    "<!-- Đáp án đúng là:\n",
    "36.67%.\n",
    "-->\n"
   ]
  },
  {
   "cell_type": "markdown",
   "metadata": {
    "button": false,
    "id": "jGJ54xXq-663",
    "new_sheet": false,
    "run_control": {
     "read_only": false
    }
   },
   "source": [
    "Cũng sử dụng ma trận nhầm lẫn tham chiếu, có bao nhiêu công thức **Korean** bị phân loại nhầm thành **Japanese**?\n"
   ]
  },
  {
   "cell_type": "markdown",
   "metadata": {
    "button": false,
    "id": "s3ElL_BV-664",
    "new_sheet": false,
    "run_control": {
     "read_only": false
    }
   },
   "source": [
    "Đáp án của bạn:\n",
    "3.33%\n"
   ]
  },
  {
   "cell_type": "markdown",
   "metadata": {
    "button": false,
    "id": "J4y0Zh4y-665",
    "new_sheet": false,
    "run_control": {
     "read_only": false
    }
   },
   "source": [
    "Nhấp đúp vào **đây** để xem lời giải\n",
    "\n",
    "<!-- Đáp án đúng là:\n",
    "3.33%.\n",
    "-->\n"
   ]
  },
  {
   "cell_type": "markdown",
   "metadata": {
    "button": false,
    "id": "x8Z6g0p2-666",
    "new_sheet": false,
    "run_control": {
     "read_only": false
    }
   },
   "source": [
    "Nền ẩm thực nào có số lượng công thức nấu ăn được phân loại đúng theo cây quyết định ít nhất bằng cách sử dụng ma trận nhầm lẫn tham chiếu?\n"
   ]
  },
  {
   "cell_type": "markdown",
   "metadata": {
    "button": false,
    "id": "Te_cq4lx-667",
    "new_sheet": false,
    "run_control": {
     "read_only": false
    }
   },
   "source": [
    "Đáp án của bạn:\n",
    "Nhật"
   ]
  },
  {
   "cell_type": "markdown",
   "metadata": {
    "button": false,
    "id": "WiH82jrh-668",
    "new_sheet": false,
    "run_control": {
     "read_only": false
    }
   },
   "source": [
    "Nhấp đúp vào **đây** để xem lời giải\n",
    "\n",
    "<!-- Đáp án đúng là:\n",
    "Ẩm thực Nhật, với chỉ 36.67%.\n",
    "-->\n"
   ]
  },
  {
   "cell_type": "markdown",
   "metadata": {
    "button": false,
    "id": "AOblJmHv-669",
    "new_sheet": false,
    "run_control": {
     "read_only": false
    }
   },
   "source": [
    "<br>\n",
    "<hr>\n"
   ]
  },
  {
   "cell_type": "markdown",
   "metadata": {
    "button": false,
    "id": "aiYsjVNQ-66-",
    "new_sheet": false,
    "run_control": {
     "read_only": false
    }
   },
   "source": [
    "### Cảm ơn bạn đã hoàn thành lab này!\n",
    "\n",
    "Nguồn: IBM\n"
   ]
  }
 ],
 "metadata": {
  "accelerator": "GPU",
  "colab": {
   "provenance": []
  },
  "kernelspec": {
   "display_name": "Python 3 (ipykernel)",
   "language": "python",
   "name": "python3"
  },
  "language_info": {
   "codemirror_mode": {
    "name": "ipython",
    "version": 3
   },
   "file_extension": ".py",
   "mimetype": "text/x-python",
   "name": "python",
   "nbconvert_exporter": "python",
   "pygments_lexer": "ipython3",
   "version": "3.11.7"
  }
 },
 "nbformat": 4,
 "nbformat_minor": 4
}
